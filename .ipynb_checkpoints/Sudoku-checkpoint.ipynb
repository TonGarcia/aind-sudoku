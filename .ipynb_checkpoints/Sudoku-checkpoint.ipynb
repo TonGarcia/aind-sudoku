{
 "cells": [
  {
   "cell_type": "code",
   "execution_count": 3,
   "metadata": {
    "collapsed": true
   },
   "outputs": [],
   "source": [
    "project_sudoku_grid_example = '..3.2.6..9..3.5..1..18.64....81.29..7.......8..67.82....26.95..8..2.3..9..5.1.3..'"
   ]
  },
  {
   "cell_type": "markdown",
   "metadata": {},
   "source": [
    "# Utils Functions & Variables\n",
    "\n",
    "utils.py"
   ]
  },
  {
   "cell_type": "code",
   "execution_count": 4,
   "metadata": {
    "collapsed": true
   },
   "outputs": [],
   "source": [
    "rows = 'ABCDEFGHI'\n",
    "cols = '123456789'\n",
    "\n",
    "def cross(a, b):\n",
    "    return [s+t for s in a for t in b]\n",
    "\n",
    "boxes = cross(rows, cols)\n",
    "\n",
    "row_units = [cross(r, cols) for r in rows]\n",
    "column_units = [cross(rows, c) for c in cols]\n",
    "square_units = [cross(rs, cs) for rs in ('ABC','DEF','GHI') for cs in ('123','456','789')]\n",
    "unitlist = row_units + column_units + square_units\n",
    "units = dict((s, [u for u in unitlist if s in u]) for s in boxes)\n",
    "peers = dict((s, set(sum(units[s],[]))-set([s])) for s in boxes)\n",
    "\n",
    "def display(values):\n",
    "    \"\"\"\n",
    "    Display the values as a 2-D grid.\n",
    "    Input: The sudoku in dictionary form\n",
    "    Output: None\n",
    "    \"\"\"\n",
    "    width = 1+max(len(values[s]) for s in boxes)\n",
    "    line = '+'.join(['-'*(width*3)]*3)\n",
    "    for r in rows:\n",
    "        print(''.join(values[r+c].center(width)+('|' if c in '36' else '')\n",
    "                      for c in cols))\n",
    "        if r in 'CF': print(line)\n",
    "    return\n"
   ]
  },
  {
   "cell_type": "markdown",
   "metadata": {},
   "source": [
    "# Main Execution Functions\n",
    "\n",
    "function.py"
   ]
  },
  {
   "cell_type": "code",
   "execution_count": 5,
   "metadata": {
    "collapsed": true
   },
   "outputs": [],
   "source": [
    "def grid_values(grid):\n",
    "    \"\"\"Convert grid string into {<box>: <value>} dict with '123456789' value for empties.\n",
    "\n",
    "    Args:\n",
    "        grid: Sudoku grid in string form, 81 characters long\n",
    "    Returns:\n",
    "        Sudoku grid in dictionary form:\n",
    "        - keys: Box labels, e.g. 'A1'\n",
    "        - values: Value in corresponding box, e.g. '8', or '123456789' if it is empty.\n",
    "    \"\"\"\n",
    "    grid_dict = {}\n",
    "    all_numbers = '123456789'\n",
    "    boxes = cross(rows, cols)\n",
    "    for box, grid_v in zip(boxes, grid):\n",
    "        if grid_v == '.':\n",
    "            grid_dict[box] = all_numbers\n",
    "        elif grid_v in all_numbers:\n",
    "         grid_dict[box] = grid_v\n",
    "    return grid_dict"
   ]
  },
  {
   "cell_type": "code",
   "execution_count": 6,
   "metadata": {},
   "outputs": [
    {
     "name": "stdout",
     "output_type": "stream",
     "text": [
      "{'A1': '123456789', 'A2': '123456789', 'A3': '3', 'A4': '123456789', 'A5': '2', 'A6': '123456789', 'A7': '6', 'A8': '123456789', 'A9': '123456789', 'B1': '9', 'B2': '123456789', 'B3': '123456789', 'B4': '3', 'B5': '123456789', 'B6': '5', 'B7': '123456789', 'B8': '123456789', 'B9': '1', 'C1': '123456789', 'C2': '123456789', 'C3': '1', 'C4': '8', 'C5': '123456789', 'C6': '6', 'C7': '4', 'C8': '123456789', 'C9': '123456789', 'D1': '123456789', 'D2': '123456789', 'D3': '8', 'D4': '1', 'D5': '123456789', 'D6': '2', 'D7': '9', 'D8': '123456789', 'D9': '123456789', 'E1': '7', 'E2': '123456789', 'E3': '123456789', 'E4': '123456789', 'E5': '123456789', 'E6': '123456789', 'E7': '123456789', 'E8': '123456789', 'E9': '8', 'F1': '123456789', 'F2': '123456789', 'F3': '6', 'F4': '7', 'F5': '123456789', 'F6': '8', 'F7': '2', 'F8': '123456789', 'F9': '123456789', 'G1': '123456789', 'G2': '123456789', 'G3': '2', 'G4': '6', 'G5': '123456789', 'G6': '9', 'G7': '5', 'G8': '123456789', 'G9': '123456789', 'H1': '8', 'H2': '123456789', 'H3': '123456789', 'H4': '2', 'H5': '123456789', 'H6': '3', 'H7': '123456789', 'H8': '123456789', 'H9': '9', 'I1': '123456789', 'I2': '123456789', 'I3': '5', 'I4': '123456789', 'I5': '1', 'I6': '123456789', 'I7': '3', 'I8': '123456789', 'I9': '123456789'}\n"
     ]
    }
   ],
   "source": [
    "print(grid_values(project_sudoku_grid_example))"
   ]
  },
  {
   "cell_type": "code",
   "execution_count": 7,
   "metadata": {
    "collapsed": true
   },
   "outputs": [],
   "source": [
    "# eliminate strategy\n",
    "def eliminate(values):\n",
    "    \"\"\"Eliminate values from peers of each box with a single value.\n",
    "\n",
    "    Go through all the boxes, and whenever there is a box with a single value,\n",
    "    eliminate this value from the set of values of all its peers.\n",
    "    peers = a dictionary of boxes with it peers (columns, rows & square(3x3))\n",
    "\n",
    "    Args:\n",
    "        values: Sudoku in dictionary form. --> Populated Grid\n",
    "    Returns:\n",
    "        Resulting Sudoku in dictionary form after eliminating values.\n",
    "    \"\"\"\n",
    "    \n",
    "    # solved_values init (an array with initial sudoku grids filled boxes positions (boxes value Length = 1))\n",
    "    solved_values = [box for box in values.keys() if len(values[box]) == 1]\n",
    "    for box in solved_values:\n",
    "        digit = values[box]\n",
    "        for peer in peers[box]:\n",
    "            values[peer] = values[peer].replace(digit,'')\n",
    "    return values"
   ]
  },
  {
   "cell_type": "code",
   "execution_count": 8,
   "metadata": {},
   "outputs": [],
   "source": [
    "eliminated_sudoku_grid = eliminate(grid_values(project_sudoku_grid_example))"
   ]
  },
  {
   "cell_type": "code",
   "execution_count": 9,
   "metadata": {
    "collapsed": true
   },
   "outputs": [],
   "source": [
    "def only_choice(values):\n",
    "    \"\"\"Finalize all values that are the only choice for a unit.\n",
    "\n",
    "    Go through all the units, and whenever there is a unit with a value\n",
    "    that only fits in one box, assign the value to this box.\n",
    "\n",
    "    Input: Sudoku in dictionary form.\n",
    "    Output: Resulting Sudoku in dictionary form after filling in only choices.\n",
    "    \"\"\"\n",
    "    # TODO: Implement only choice strategy here\n",
    "    for unit in unitlist:\n",
    "        # iterate numbers values to find it on boxes\n",
    "        for digit in '123456789':\n",
    "            # iterate unit's boxes & create a \"digit_places\" map array containing the places where it number repeats \n",
    "            dplaces = [box for box in unit if digit in values[box]]\n",
    "            # if it doesn't repeat, so there is a only choice place \n",
    "            if len(dplaces) == 1:\n",
    "                values[dplaces[0]] = digit\n",
    "    return values"
   ]
  },
  {
   "cell_type": "code",
   "execution_count": 11,
   "metadata": {},
   "outputs": [
    {
     "data": {
      "text/plain": [
       "{'A1': '45',\n",
       " 'A2': '8',\n",
       " 'A3': '3',\n",
       " 'A4': '9',\n",
       " 'A5': '2',\n",
       " 'A6': '1',\n",
       " 'A7': '6',\n",
       " 'A8': '5789',\n",
       " 'A9': '57',\n",
       " 'B1': '9',\n",
       " 'B2': '6',\n",
       " 'B3': '47',\n",
       " 'B4': '3',\n",
       " 'B5': '4',\n",
       " 'B6': '5',\n",
       " 'B7': '8',\n",
       " 'B8': '278',\n",
       " 'B9': '1',\n",
       " 'C1': '2',\n",
       " 'C2': '257',\n",
       " 'C3': '1',\n",
       " 'C4': '8',\n",
       " 'C5': '7',\n",
       " 'C6': '6',\n",
       " 'C7': '4',\n",
       " 'C8': '23579',\n",
       " 'C9': '2357',\n",
       " 'D1': '345',\n",
       " 'D2': '345',\n",
       " 'D3': '8',\n",
       " 'D4': '1',\n",
       " 'D5': '3456',\n",
       " 'D6': '2',\n",
       " 'D7': '9',\n",
       " 'D8': '34567',\n",
       " 'D9': '34567',\n",
       " 'E1': '7',\n",
       " 'E2': '2',\n",
       " 'E3': '9',\n",
       " 'E4': '5',\n",
       " 'E5': '34569',\n",
       " 'E6': '4',\n",
       " 'E7': '1',\n",
       " 'E8': '13456',\n",
       " 'E9': '8',\n",
       " 'F1': '1345',\n",
       " 'F2': '13459',\n",
       " 'F3': '6',\n",
       " 'F4': '7',\n",
       " 'F5': '3459',\n",
       " 'F6': '8',\n",
       " 'F7': '2',\n",
       " 'F8': '1345',\n",
       " 'F9': '345',\n",
       " 'G1': '134',\n",
       " 'G2': '1347',\n",
       " 'G3': '2',\n",
       " 'G4': '6',\n",
       " 'G5': '8',\n",
       " 'G6': '9',\n",
       " 'G7': '5',\n",
       " 'G8': '1478',\n",
       " 'G9': '47',\n",
       " 'H1': '8',\n",
       " 'H2': '1467',\n",
       " 'H3': '47',\n",
       " 'H4': '2',\n",
       " 'H5': '5',\n",
       " 'H6': '3',\n",
       " 'H7': '17',\n",
       " 'H8': '6',\n",
       " 'H9': '9',\n",
       " 'I1': '6',\n",
       " 'I2': '9',\n",
       " 'I3': '5',\n",
       " 'I4': '4',\n",
       " 'I5': '1',\n",
       " 'I6': '7',\n",
       " 'I7': '3',\n",
       " 'I8': '8',\n",
       " 'I9': '2'}"
      ]
     },
     "execution_count": 11,
     "metadata": {},
     "output_type": "execute_result"
    }
   ],
   "source": [
    "only_choice(eliminated_sudoku_grid)"
   ]
  },
  {
   "cell_type": "code",
   "execution_count": 12,
   "metadata": {
    "collapsed": true
   },
   "outputs": [],
   "source": [
    "def reduce_puzzle(values):\n",
    "    stalled = False\n",
    "    while not stalled:\n",
    "        # Check how many boxes have a determined value\n",
    "        solved_values_before = len([box for box in values.keys() if len(values[box]) == 1])\n",
    "\n",
    "        # Your code here: Use the Eliminate Strategy\n",
    "        eliminated_grid = eliminate(values)\n",
    "\n",
    "        # Your code here: Use the Only Choice Strategy\n",
    "        only_choice_grid = only_choice(eliminated_grid)\n",
    "\n",
    "        # Check how many boxes have a determined value, to compare\n",
    "        solved_values_after = len([box for box in values.keys() if len(values[box]) == 1])\n",
    "        # If no new values were added, stop the loop.\n",
    "        stalled = solved_values_before == solved_values_after\n",
    "        # Sanity check, return False if there is a box with zero available values:\n",
    "        if len([box for box in values.keys() if len(values[box]) == 0]):\n",
    "            return False\n",
    "    return values\n"
   ]
  },
  {
   "cell_type": "code",
   "execution_count": 13,
   "metadata": {
    "collapsed": true
   },
   "outputs": [],
   "source": [
    "harder_grid = '4.....8.5.3..........7......2.....6.....8.4......1.......6.3.7.5..2.....1.4......'"
   ]
  },
  {
   "cell_type": "code",
   "execution_count": 51,
   "metadata": {},
   "outputs": [],
   "source": [
    "def search(values):\n",
    "    \"Using depth-first search and propagation, create a search tree and solve the sudoku.\"\n",
    "    # Prevent Type Error\n",
    "    values_type = type(values)\n",
    "    values = grid_values(values) if values_type == str else values\n",
    "    if values == False:\n",
    "        return 'wrong values type (not a String neither a Dict)'\n",
    "    \n",
    "    # First, reduce the puzzle using the previous function\n",
    "    reduced = reduce_puzzle(values)\n",
    "    if reduced is False:\n",
    "        return False ## Failed earlier\n",
    "    if all(len(values[s]) == 1 for s in boxes): \n",
    "        return values ## Solved!\n",
    "        \n",
    "    # Choose one of the unfilled squares with the fewest possibilities\n",
    "    # Loop on boxes to find the fewest length\n",
    "    n,s = min((len(reduced[s]), s) for s in boxes if len(reduced[s]) > 1)\n",
    "    # Now use recurrence to solve each one of the resulting sudokus, and \n",
    "    for value in values[s]:\n",
    "        new_sudoku = values.copy()\n",
    "        new_sudoku[s] = value\n",
    "        attempt = search(new_sudoku)\n",
    "        if attempt:\n",
    "            return attempt"
   ]
  },
  {
   "cell_type": "code",
   "execution_count": 52,
   "metadata": {},
   "outputs": [
    {
     "data": {
      "text/plain": [
       "{'A1': '4',\n",
       " 'A2': '1',\n",
       " 'A3': '7',\n",
       " 'A4': '3',\n",
       " 'A5': '6',\n",
       " 'A6': '9',\n",
       " 'A7': '8',\n",
       " 'A8': '2',\n",
       " 'A9': '5',\n",
       " 'B1': '6',\n",
       " 'B2': '3',\n",
       " 'B3': '2',\n",
       " 'B4': '1',\n",
       " 'B5': '5',\n",
       " 'B6': '8',\n",
       " 'B7': '9',\n",
       " 'B8': '4',\n",
       " 'B9': '7',\n",
       " 'C1': '9',\n",
       " 'C2': '5',\n",
       " 'C3': '8',\n",
       " 'C4': '7',\n",
       " 'C5': '2',\n",
       " 'C6': '4',\n",
       " 'C7': '3',\n",
       " 'C8': '1',\n",
       " 'C9': '6',\n",
       " 'D1': '8',\n",
       " 'D2': '2',\n",
       " 'D3': '5',\n",
       " 'D4': '4',\n",
       " 'D5': '3',\n",
       " 'D6': '7',\n",
       " 'D7': '1',\n",
       " 'D8': '6',\n",
       " 'D9': '9',\n",
       " 'E1': '7',\n",
       " 'E2': '9',\n",
       " 'E3': '1',\n",
       " 'E4': '5',\n",
       " 'E5': '8',\n",
       " 'E6': '6',\n",
       " 'E7': '4',\n",
       " 'E8': '3',\n",
       " 'E9': '2',\n",
       " 'F1': '3',\n",
       " 'F2': '4',\n",
       " 'F3': '6',\n",
       " 'F4': '9',\n",
       " 'F5': '1',\n",
       " 'F6': '2',\n",
       " 'F7': '7',\n",
       " 'F8': '5',\n",
       " 'F9': '8',\n",
       " 'G1': '2',\n",
       " 'G2': '8',\n",
       " 'G3': '9',\n",
       " 'G4': '6',\n",
       " 'G5': '4',\n",
       " 'G6': '3',\n",
       " 'G7': '5',\n",
       " 'G8': '7',\n",
       " 'G9': '1',\n",
       " 'H1': '5',\n",
       " 'H2': '7',\n",
       " 'H3': '3',\n",
       " 'H4': '2',\n",
       " 'H5': '9',\n",
       " 'H6': '1',\n",
       " 'H7': '6',\n",
       " 'H8': '8',\n",
       " 'H9': '4',\n",
       " 'I1': '1',\n",
       " 'I2': '6',\n",
       " 'I3': '4',\n",
       " 'I4': '8',\n",
       " 'I5': '7',\n",
       " 'I6': '5',\n",
       " 'I7': '2',\n",
       " 'I8': '9',\n",
       " 'I9': '3'}"
      ]
     },
     "execution_count": 52,
     "metadata": {},
     "output_type": "execute_result"
    }
   ],
   "source": [
    "search(harder_grid)"
   ]
  },
  {
   "cell_type": "code",
   "execution_count": null,
   "metadata": {
    "collapsed": true
   },
   "outputs": [],
   "source": []
  }
 ],
 "metadata": {
  "kernelspec": {
   "display_name": "Python 3",
   "language": "python",
   "name": "python3"
  },
  "language_info": {
   "codemirror_mode": {
    "name": "ipython",
    "version": 3
   },
   "file_extension": ".py",
   "mimetype": "text/x-python",
   "name": "python",
   "nbconvert_exporter": "python",
   "pygments_lexer": "ipython3",
   "version": "3.6.1"
  }
 },
 "nbformat": 4,
 "nbformat_minor": 2
}
