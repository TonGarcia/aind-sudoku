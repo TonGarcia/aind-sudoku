{
 "cells": [
  {
   "cell_type": "code",
   "execution_count": null,
   "metadata": {
    "collapsed": true
   },
   "outputs": [],
   "source": [
    "project_sudoku_grid_example = '..3.2.6..9..3.5..1..18.64....81.29..7.......8..67.82....26.95..8..2.3..9..5.1.3..'"
   ]
  },
  {
   "cell_type": "markdown",
   "metadata": {},
   "source": [
    "# Utils Functions & Variables\n",
    "\n",
    "utils.py"
   ]
  },
  {
   "cell_type": "code",
   "execution_count": 1,
   "metadata": {
    "collapsed": true
   },
   "outputs": [],
   "source": [
    "rows = 'ABCDEFGHI'\n",
    "cols = '123456789'\n",
    "\n",
    "def cross(a, b):\n",
    "    return [s+t for s in a for t in b]\n",
    "\n",
    "boxes = cross(rows, cols)\n",
    "\n",
    "row_units = [cross(r, cols) for r in rows]\n",
    "column_units = [cross(rows, c) for c in cols]\n",
    "square_units = [cross(rs, cs) for rs in ('ABC','DEF','GHI') for cs in ('123','456','789')]\n",
    "unitlist = row_units + column_units + square_units\n",
    "units = dict((s, [u for u in unitlist if s in u]) for s in boxes)\n",
    "peers = dict((s, set(sum(units[s],[]))-set([s])) for s in boxes)\n",
    "\n",
    "def display(values):\n",
    "    \"\"\"\n",
    "    Display the values as a 2-D grid.\n",
    "    Input: The sudoku in dictionary form\n",
    "    Output: None\n",
    "    \"\"\"\n",
    "    width = 1+max(len(values[s]) for s in boxes)\n",
    "    line = '+'.join(['-'*(width*3)]*3)\n",
    "    for r in rows:\n",
    "        print(''.join(values[r+c].center(width)+('|' if c in '36' else '')\n",
    "                      for c in cols))\n",
    "        if r in 'CF': print(line)\n",
    "    return\n"
   ]
  },
  {
   "cell_type": "markdown",
   "metadata": {},
   "source": [
    "# Main Execution Functions\n",
    "\n",
    "function.py"
   ]
  },
  {
   "cell_type": "code",
   "execution_count": 2,
   "metadata": {
    "collapsed": true
   },
   "outputs": [],
   "source": [
    "def grid_values(grid):\n",
    "    \"\"\"Convert grid string into {<box>: <value>} dict with '123456789' value for empties.\n",
    "\n",
    "    Args:\n",
    "        grid: Sudoku grid in string form, 81 characters long\n",
    "    Returns:\n",
    "        Sudoku grid in dictionary form:\n",
    "        - keys: Box labels, e.g. 'A1'\n",
    "        - values: Value in corresponding box, e.g. '8', or '123456789' if it is empty.\n",
    "    \"\"\"\n",
    "    grid_dict = {}\n",
    "    all_numbers = '123456789'\n",
    "    boxes = cross(rows, cols)\n",
    "    for box, grid_v in zip(boxes, grid):\n",
    "        if grid_v == '.':\n",
    "            grid_dict[box] = all_numbers\n",
    "        elif grid_v in all_numbers:\n",
    "         grid_dict[box] = grid_v\n",
    "    return grid_dict"
   ]
  },
  {
   "cell_type": "code",
   "execution_count": 3,
   "metadata": {},
   "outputs": [
    {
     "ename": "NameError",
     "evalue": "name 'project_sudoku_grid_example' is not defined",
     "output_type": "error",
     "traceback": [
      "\u001b[0;31m---------------------------------------------------------------------------\u001b[0m",
      "\u001b[0;31mNameError\u001b[0m                                 Traceback (most recent call last)",
      "\u001b[0;32m<ipython-input-3-2517b25ba0d2>\u001b[0m in \u001b[0;36m<module>\u001b[0;34m()\u001b[0m\n\u001b[0;32m----> 1\u001b[0;31m \u001b[0mprint\u001b[0m\u001b[0;34m(\u001b[0m\u001b[0mgrid_values\u001b[0m\u001b[0;34m(\u001b[0m\u001b[0mproject_sudoku_grid_example\u001b[0m\u001b[0;34m)\u001b[0m\u001b[0;34m)\u001b[0m\u001b[0;34m\u001b[0m\u001b[0m\n\u001b[0m",
      "\u001b[0;31mNameError\u001b[0m: name 'project_sudoku_grid_example' is not defined"
     ]
    }
   ],
   "source": [
    "print(grid_values(project_sudoku_grid_example))"
   ]
  },
  {
   "cell_type": "code",
   "execution_count": null,
   "metadata": {
    "collapsed": true
   },
   "outputs": [],
   "source": []
  }
 ],
 "metadata": {
  "kernelspec": {
   "display_name": "Python 3",
   "language": "python",
   "name": "python3"
  },
  "language_info": {
   "codemirror_mode": {
    "name": "ipython",
    "version": 3
   },
   "file_extension": ".py",
   "mimetype": "text/x-python",
   "name": "python",
   "nbconvert_exporter": "python",
   "pygments_lexer": "ipython3",
   "version": "3.6.1"
  }
 },
 "nbformat": 4,
 "nbformat_minor": 2
}
